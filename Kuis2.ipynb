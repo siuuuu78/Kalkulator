{
  "nbformat": 4,
  "nbformat_minor": 0,
  "metadata": {
    "colab": {
      "provenance": [],
      "authorship_tag": "ABX9TyMo1YMlVLLeSV6XO+dF+4y9",
      "include_colab_link": true
    },
    "kernelspec": {
      "name": "python3",
      "display_name": "Python 3"
    },
    "language_info": {
      "name": "python"
    }
  },
  "cells": [
    {
      "cell_type": "markdown",
      "metadata": {
        "id": "view-in-github",
        "colab_type": "text"
      },
      "source": [
        "<a href=\"https://colab.research.google.com/github/siuuuu78/Kalkulator/blob/main/Kuis2.ipynb\" target=\"_parent\"><img src=\"https://colab.research.google.com/assets/colab-badge.svg\" alt=\"Open In Colab\"/></a>"
      ]
    },
    {
      "cell_type": "code",
      "execution_count": 1,
      "metadata": {
        "colab": {
          "base_uri": "https://localhost:8080/"
        },
        "id": "Cew_eu9SGYP4",
        "outputId": "749004cd-51c5-4354-9399-d6d5cc4d5d25"
      },
      "outputs": [
        {
          "output_type": "stream",
          "name": "stdout",
          "text": [
            "Fakta awal: ['dolar turun']\n",
            "Kesimpulan yang dihasilkan:\n",
            "- harga emas naik\n",
            "- inflasi naik\n",
            "- jual emas\n",
            "\n",
            "Keputusan: TIDAK BELI, justru JUAL EMAS\n"
          ]
        }
      ],
      "source": [
        "\n",
        "\n",
        "def sistem_pakar(fakta):\n",
        "    kesimpulan = []\n",
        "\n",
        "\n",
        "    if \"dolar turun\" in fakta:\n",
        "        kesimpulan.append(\"harga emas naik\")\n",
        "\n",
        "\n",
        "    if \"dolar naik\" in fakta:\n",
        "        kesimpulan.append(\"harga emas turun\")\n",
        "\n",
        "\n",
        "    if \"dolar stabil\" in fakta:\n",
        "        kesimpulan.append(\"harga emas tidak berubah\")\n",
        "\n",
        "\n",
        "    if \"harga emas naik\" in fakta or \"harga emas naik\" in kesimpulan:\n",
        "        kesimpulan.append(\"inflasi naik\")\n",
        "\n",
        "\n",
        "    if \"inflasi turun\" in fakta or \"inflasi turun\" in kesimpulan:\n",
        "        kesimpulan.append(\"harga emas turun\")\n",
        "\n",
        "\n",
        "    if \"harga emas turun\" in fakta or \"harga emas turun\" in kesimpulan:\n",
        "        kesimpulan.append(\"beli emas\")\n",
        "\n",
        "\n",
        "    if \"harga emas naik\" in fakta or \"harga emas naik\" in kesimpulan:\n",
        "        kesimpulan.append(\"jual emas\")\n",
        "\n",
        "    return kesimpulan\n",
        "\n",
        "\n",
        "\n",
        "fakta_awal = [\"dolar turun\"]\n",
        "\n",
        "hasil = sistem_pakar(fakta_awal)\n",
        "\n",
        "print(\"Fakta awal:\", fakta_awal)\n",
        "print(\"Kesimpulan yang dihasilkan:\")\n",
        "for h in hasil:\n",
        "    print(\"-\", h)\n",
        "\n",
        "\n",
        "if \"beli emas\" in hasil:\n",
        "    print(\"\\nKeputusan: SEBAIKNYA BELI EMAS\")\n",
        "elif \"jual emas\" in hasil:\n",
        "    print(\"\\nKeputusan: TIDAK BELI, justru JUAL EMAS\")\n",
        "else:\n",
        "    print(\"\\nKeputusan: TIDAK ADA SARAN\")"
      ]
    }
  ]
}