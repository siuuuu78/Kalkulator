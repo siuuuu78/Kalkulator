{
  "nbformat": 4,
  "nbformat_minor": 0,
  "metadata": {
    "colab": {
      "provenance": [],
      "authorship_tag": "ABX9TyOvdU4AEWwNuBdaWl7V9Yml",
      "include_colab_link": true
    },
    "kernelspec": {
      "name": "python3",
      "display_name": "Python 3"
    },
    "language_info": {
      "name": "python"
    }
  },
  "cells": [
    {
      "cell_type": "markdown",
      "metadata": {
        "id": "view-in-github",
        "colab_type": "text"
      },
      "source": [
        "<a href=\"https://colab.research.google.com/github/siuuuu78/Kalkulator/blob/main/PrediksiKerusakanLaptop.ipynb\" target=\"_parent\"><img src=\"https://colab.research.google.com/assets/colab-badge.svg\" alt=\"Open In Colab\"/></a>"
      ]
    },
    {
      "cell_type": "code",
      "execution_count": null,
      "metadata": {
        "colab": {
          "base_uri": "https://localhost:8080/"
        },
        "id": "d6trA0-Mh0Jd",
        "outputId": "75640aaf-3aa7-4294-c7ea-5b5a59404bf1"
      },
      "outputs": [
        {
          "output_type": "stream",
          "name": "stdout",
          "text": [
            "Jawab dengan y (ya) atau n (tidak), angka untuk status\n",
            "Apakah laptop bisa nyala? (y/n): y\n",
            "Apakah lampu indikator menyala? (y/n): y\n",
            "Apakah laptop terasa panas berlebihan? (y/n): y\n",
            "Apakah kipas berbunyi keras/bising? (y/n): y\n",
            "Apakah layar gelap/tidak muncul tampilan? (y/n): n\n",
            "Apakah suara laptop normal? (y/n): y\n",
            "Apakah laptop sangat lemot? (y/n): y\n",
            "Apakah sering not responding/hang? (y/n): y\n",
            "Apakah baterai cepat habis? (y/n): y\n",
            "Apakah baterai mengembung? (y/n): n\n",
            "\n",
            "Hasil diagnosa kerusakan laptop:\n",
            "- Kemungkinan kipas kotor / pendinginan tidak optimal (Akurasi: 75%)\n",
            "- Kemungkinan RAM penuh atau harddisk error (Akurasi: 70%)\n"
          ]
        }
      ],
      "source": [
        "# Sistem Pakar Diagnosa Kerusakan Laptop\n",
        "# By: Rayhan Atricha Rambe\n",
        "\n",
        "def diagnosa(gejala):\n",
        "    # Aturan diagnosa dengan confidence/akurasi (%)\n",
        "    aturan = [\n",
        "        {\"kondisi\": gejala[\"nyala\"] == False and gejala[\"lampu_indikator\"] == False,\n",
        "         \"hasil\": \"Kemungkinan adaptor rusak\", \"akurasi\": 80},\n",
        "\n",
        "        {\"kondisi\": gejala[\"panas\"] and gejala[\"kipas_bising\"],\n",
        "         \"hasil\": \"Kemungkinan kipas kotor / pendinginan tidak optimal\", \"akurasi\": 75},\n",
        "\n",
        "        {\"kondisi\": gejala[\"layar_gelap\"] and gejala[\"suara_normal\"],\n",
        "         \"hasil\": \"Kemungkinan kerusakan layar (LCD/LED)\", \"akurasi\": 85},\n",
        "\n",
        "        {\"kondisi\": gejala[\"lemot\"] and gejala[\"not_responding\"],\n",
        "         \"hasil\": \"Kemungkinan RAM penuh atau harddisk error\", \"akurasi\": 70},\n",
        "\n",
        "        {\"kondisi\": gejala[\"baterai_boros\"] and gejala[\"baterai_mengembung\"],\n",
        "         \"hasil\": \"Kemungkinan baterai rusak\", \"akurasi\": 90},\n",
        "    ]\n",
        "\n",
        "    # kumpulkan semua kemungkinan\n",
        "    hasil = []\n",
        "    for rule in aturan:\n",
        "        if rule[\"kondisi\"]:\n",
        "            hasil.append(f\"{rule['hasil']} (Akurasi: {rule['akurasi']}%)\")\n",
        "\n",
        "    # jika tidak ada yang cocok\n",
        "    if not hasil:\n",
        "        return [\"Laptop normal atau gejala tidak terdeteksi\"]\n",
        "\n",
        "    return hasil\n",
        "\n",
        "\n",
        "print(\"Jawab dengan y (ya) atau n (tidak), angka untuk status\")\n",
        "\n",
        "gejala = {\n",
        "    \"nyala\": input(\"Apakah laptop bisa nyala? (y/n): \") == \"y\",\n",
        "    \"lampu_indikator\": input(\"Apakah lampu indikator menyala? (y/n): \") == \"y\",\n",
        "    \"panas\": input(\"Apakah laptop terasa panas berlebihan? (y/n): \") == \"y\",\n",
        "    \"kipas_bising\": input(\"Apakah kipas berbunyi keras/bising? (y/n): \") == \"y\",\n",
        "    \"layar_gelap\": input(\"Apakah layar gelap/tidak muncul tampilan? (y/n): \") == \"y\",\n",
        "    \"suara_normal\": input(\"Apakah suara laptop normal? (y/n): \") == \"y\",\n",
        "    \"lemot\": input(\"Apakah laptop sangat lemot? (y/n): \") == \"y\",\n",
        "    \"not_responding\": input(\"Apakah sering not responding/hang? (y/n): \") == \"y\",\n",
        "    \"baterai_boros\": input(\"Apakah baterai cepat habis? (y/n): \") == \"y\",\n",
        "    \"baterai_mengembung\": input(\"Apakah baterai mengembung? (y/n): \") == \"y\",\n",
        "}\n",
        "\n",
        "# hasil diagnosa\n",
        "hasil_diagnosa = diagnosa(gejala)\n",
        "print(\"\\nHasil diagnosa kerusakan laptop:\")\n",
        "for h in hasil_diagnosa:\n",
        "    print(\"-\", h)\n"
      ]
    }
  ]
}