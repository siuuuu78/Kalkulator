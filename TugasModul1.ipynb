{
  "nbformat": 4,
  "nbformat_minor": 0,
  "metadata": {
    "colab": {
      "provenance": [],
      "authorship_tag": "ABX9TyN10ZHpN6/D2kHpIhajvCMZ",
      "include_colab_link": true
    },
    "kernelspec": {
      "name": "python3",
      "display_name": "Python 3"
    },
    "language_info": {
      "name": "python"
    }
  },
  "cells": [
    {
      "cell_type": "markdown",
      "metadata": {
        "id": "view-in-github",
        "colab_type": "text"
      },
      "source": [
        "<a href=\"https://colab.research.google.com/github/siuuuu78/Kalkulator/blob/main/TugasModul1.ipynb\" target=\"_parent\"><img src=\"https://colab.research.google.com/assets/colab-badge.svg\" alt=\"Open In Colab\"/></a>"
      ]
    },
    {
      "cell_type": "code",
      "source": [
        "# Sistem Pakar Diagnosa Sederhana (gabung pusing & sakit kepala)\n",
        "# By: Rayhan Atricha Rambe\n",
        "\n",
        "def diagnosa(gejala):\n",
        "    # gabungkan pusing & sakit_kepala jadi satu flag untuk aturan lama yang memerlukan salah satunya\n",
        "    gejala[\"pusing_atau_sakit_kepala\"] = gejala[\"pusing_sakit_kepala\"]\n",
        "\n",
        "    aturan = [\n",
        "        {\"kondisi\": gejala[\"demam\"] and gejala[\"batuk\"],\n",
        "         \"hasil\": \"Kemungkinan Flu\", \"akurasi\": 80},\n",
        "\n",
        "        {\"kondisi\": gejala[\"menggigil\"] and not gejala[\"pusing_sakit_kepala\"] and not gejala[\"mual\"],\n",
        "         \"hasil\": \"Kemungkinan Masuk Angin\", \"akurasi\": 70},\n",
        "\n",
        "        {\"kondisi\": gejala[\"menggigil\"] and gejala[\"pusing_sakit_kepala\"] and gejala[\"mual\"],\n",
        "         \"hasil\": \"Kemungkinan Tipes\", \"akurasi\": 85},\n",
        "\n",
        "        # Aturan tambahan (disesuaikan)\n",
        "        {\"kondisi\": gejala[\"demam\"] and gejala[\"pusing_sakit_kepala\"],\n",
        "         \"hasil\": \"Kemungkinan Demam Berdarah (DB) ringan\", \"akurasi\": 75},\n",
        "\n",
        "        {\"kondisi\": gejala[\"batuk\"] and gejala[\"sesak_nafas\"],\n",
        "         \"hasil\": \"Kemungkinan ISPA\", \"akurasi\": 80},\n",
        "\n",
        "        {\"kondisi\": gejala[\"mual\"] and gejala[\"muntah\"] and gejala[\"diare\"],\n",
        "         \"hasil\": \"Kemungkinan Keracunan Makanan\", \"akurasi\": 90},\n",
        "\n",
        "        {\"kondisi\": gejala[\"demam\"] and gejala[\"nyeri_otot\"],\n",
        "         \"hasil\": \"Kemungkinan Gejala Awal DBD\", \"akurasi\": 75},\n",
        "    ]\n",
        "\n",
        "    for rule in aturan:\n",
        "        if rule[\"kondisi\"]:\n",
        "            return f\"{rule['hasil']} (Akurasi: {rule['akurasi']}%)\"\n",
        "\n",
        "    return \"Anda Sehat atau Gejala tidak terdeteksi (Akurasi: 100%)\"\n",
        "\n",
        "\n",
        "print(\"Jawab dengan y (ya) atau n (tidak)\")\n",
        "gejala = {\n",
        "    \"demam\": input(\"Apakah Anda demam? (y/n): \") == \"y\",\n",
        "    \"batuk\": input(\"Apakah Anda batuk? (y/n): \") == \"y\",\n",
        "    \"menggigil\": input(\"Apakah Anda menggigil? (y/n): \") == \"y\",\n",
        "    # digabung jadi satu pertanyaan\n",
        "    \"pusing_sakit_kepala\": input(\"Apakah Anda pusing / sakit kepala? (y/n): \") == \"y\",\n",
        "    \"mual\": input(\"Apakah Anda mual? (y/n): \") == \"y\",\n",
        "    \"sesak_nafas\": input(\"Apakah Anda sesak nafas? (y/n): \") == \"y\",\n",
        "    \"muntah\": input(\"Apakah Anda muntah? (y/n): \") == \"y\",\n",
        "    \"diare\": input(\"Apakah Anda diare? (y/n): \") == \"y\",\n",
        "    \"nyeri_otot\": input(\"Apakah Anda nyeri otot? (y/n): \") == \"y\",\n",
        "}\n",
        "\n",
        "print(\"\\nHasil diagnosa:\", diagnosa(gejala))\n"
      ],
      "metadata": {
        "colab": {
          "base_uri": "https://localhost:8080/"
        },
        "id": "IIeeOaX3Xw6u",
        "outputId": "564853d2-083e-451b-90d5-a1babc1c8e3b"
      },
      "execution_count": 4,
      "outputs": [
        {
          "output_type": "stream",
          "name": "stdout",
          "text": [
            "Jawab dengan y (ya) atau n (tidak)\n",
            "Apakah Anda demam? (y/n): y\n",
            "Apakah Anda batuk? (y/n): n\n",
            "Apakah Anda menggigil? (y/n): y\n",
            "Apakah Anda pusing / sakit kepala? (y/n): y\n",
            "Apakah Anda mual? (y/n): y\n",
            "Apakah Anda sesak nafas? (y/n): n\n",
            "Apakah Anda muntah? (y/n): n\n",
            "Apakah Anda diare? (y/n): n\n",
            "Apakah Anda nyeri otot? (y/n): n\n",
            "\n",
            "Hasil diagnosa: Kemungkinan Tipes (Akurasi: 85%)\n"
          ]
        }
      ]
    }
  ]
}